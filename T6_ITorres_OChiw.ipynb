{
 "cells": [
  {
   "cell_type": "markdown",
   "id": "2bc4e9da-cd11-4872-935c-bc05087c1eb3",
   "metadata": {},
   "source": [
    "<img style=\"float: left; margin: 30px 15px 15px 15px;\" src=\"https://encrypted-tbn0.gstatic.com/images?q=tbn:ANd9GcTFzQj91sOlkeDFkg5HDbjtR4QJYmLXkfMNig&usqp=CAU\" width=\"400\" height=\"500\" /> \n",
    "\n",
    "    \n",
    "### <font color='navy'> Simulación matemática. \n",
    "\n",
    "**Nombres:** \n",
    "\n",
    " Isabela Torres-Septien Uribe & Óscar Guillermo Chiw Lozano.\n",
    "\n",
    "**Fecha:** 01 de octubre del 2023.\n",
    "\n",
    "**Expediente:** \n",
    "* 730667\n",
    "* 736814\n",
    "    \n",
    "**Profesor:** Oscar David Jaramillo Zuluaga.\n",
    "    \n",
    "**Link Github:** https://github.com/IsabelaTorres0/T6_ITorresSeptien_OChiw\n",
    "\n",
    "# Tarea 6: Clase 9"
   ]
  },
  {
   "cell_type": "markdown",
   "id": "7825e79d-a53c-4cd3-89f7-f118c8b38150",
   "metadata": {},
   "source": [
    "## TAREA 6\n",
    "1. Aproximar el área de la región descrita por\n",
    "\n",
    "$$x^2+2y^2\\leq-2x+8y-7$$\n",
    "\n",
    "Poner los resultados en una tabla cuyas filas correspondan a la cantidad de términos utilizados en la aproximación (usar 1, 10, 100, 1000, 10000 y 100000 términos) y en las columnas el valor de aproximación y el error relativo.\n",
    "\n",
    "Definir unos límites adecuados $a_1$, $b_1$, $a_2$ y $b_2$, para la región $R=\\left[a_1,b_1\\right]\\times\\left[a_2,b_2\\right]$"
   ]
  },
  {
   "cell_type": "markdown",
   "id": "56309489-b698-4077-bd59-ce8016ecbf3e",
   "metadata": {},
   "source": [
    "Código de solución Isabela Torres"
   ]
  },
  {
   "cell_type": "code",
   "execution_count": null,
   "id": "49aff092-b496-4006-9340-f25bf81f6afe",
   "metadata": {},
   "outputs": [],
   "source": []
  },
  {
   "cell_type": "markdown",
   "id": "ebab6679-22c2-495d-afb0-437d200eecca",
   "metadata": {},
   "source": [
    "Código de solución Guillermo Chiw"
   ]
  },
  {
   "cell_type": "code",
   "execution_count": 12,
   "id": "db75d36c-c01d-4178-a83f-f57cb12728c3",
   "metadata": {},
   "outputs": [
    {
     "name": "stderr",
     "output_type": "stream",
     "text": [
      "C:\\Users\\guill\\AppData\\Local\\Temp\\ipykernel_21988\\1148565697.py:34: RuntimeWarning: divide by zero encountered in scalar divide\n",
      "  error_relativo = (area_aprox - area_anterior) / area_anterior\n"
     ]
    },
    {
     "data": {
      "text/html": [
       "<div>\n",
       "<style scoped>\n",
       "    .dataframe tbody tr th:only-of-type {\n",
       "        vertical-align: middle;\n",
       "    }\n",
       "\n",
       "    .dataframe tbody tr th {\n",
       "        vertical-align: top;\n",
       "    }\n",
       "\n",
       "    .dataframe thead th {\n",
       "        text-align: right;\n",
       "    }\n",
       "</style>\n",
       "<table border=\"1\" class=\"dataframe\">\n",
       "  <thead>\n",
       "    <tr style=\"text-align: right;\">\n",
       "      <th></th>\n",
       "      <th>Aproximación</th>\n",
       "      <th>Error Relativo</th>\n",
       "    </tr>\n",
       "  </thead>\n",
       "  <tbody>\n",
       "    <tr>\n",
       "      <th>1</th>\n",
       "      <td>0.0</td>\n",
       "      <td>None</td>\n",
       "    </tr>\n",
       "    <tr>\n",
       "      <th>10</th>\n",
       "      <td>4.8</td>\n",
       "      <td>inf</td>\n",
       "    </tr>\n",
       "    <tr>\n",
       "      <th>100</th>\n",
       "      <td>3.52</td>\n",
       "      <td>-0.266667</td>\n",
       "    </tr>\n",
       "    <tr>\n",
       "      <th>1000</th>\n",
       "      <td>4.32</td>\n",
       "      <td>0.227273</td>\n",
       "    </tr>\n",
       "    <tr>\n",
       "      <th>10000</th>\n",
       "      <td>4.0896</td>\n",
       "      <td>-0.053333</td>\n",
       "    </tr>\n",
       "    <tr>\n",
       "      <th>100000</th>\n",
       "      <td>4.04608</td>\n",
       "      <td>-0.010642</td>\n",
       "    </tr>\n",
       "  </tbody>\n",
       "</table>\n",
       "</div>"
      ],
      "text/plain": [
       "       Aproximación Error Relativo\n",
       "1               0.0           None\n",
       "10              4.8            inf\n",
       "100            3.52      -0.266667\n",
       "1000           4.32       0.227273\n",
       "10000        4.0896      -0.053333\n",
       "100000      4.04608      -0.010642"
      ]
     },
     "execution_count": 12,
     "metadata": {},
     "output_type": "execute_result"
    }
   ],
   "source": [
    "# Importación de librerías\n",
    "import numpy as np\n",
    "import pandas as pd\n",
    "\n",
    "# Definir la función de Montecarlo\n",
    "def montecarlo2(region, a1, b1, a2, b2, N):\n",
    "    AR = (b1-a1)*(b2-a2)\n",
    "    x = np.random.uniform(a1, b1, N)\n",
    "    y = np.random.uniform(a2, b2, N)\n",
    "    bi = region(x, y)\n",
    "    AD_approx = AR*np.mean(bi)\n",
    "    return AD_approx\n",
    "\n",
    "# Definir la región\n",
    "def region(x, y):\n",
    "    return x**2 + 2*y**2 <= -2*x + 8*y - 7\n",
    "\n",
    "# Definir límites\n",
    "a1, b1, a2, b2 = -2, 2, 1, 5\n",
    "\n",
    "# Cantidad de términos a utilizar para la aproximación\n",
    "N = np.logspace(0, 5, 6).astype(int)\n",
    "\n",
    "# Crear la tabla (DataFrame de pandas)\n",
    "tabla = pd.DataFrame(index=N, columns=['Aproximación', 'Error Relativo'])\n",
    "\n",
    "# Inicializar el primer valor de aproximación\n",
    "area_anterior = None\n",
    "\n",
    "for n in N:\n",
    "    area_aprox = montecarlo2(region, a1, b1, a2, b2, n)\n",
    "    \n",
    "    if area_anterior is not None:\n",
    "        error_relativo = (area_aprox - area_anterior) / area_anterior\n",
    "    else:\n",
    "        error_relativo = None\n",
    "    \n",
    "    tabla.loc[n, 'Aproximación'] = area_aprox\n",
    "    tabla.loc[n, 'Error Relativo'] = error_relativo\n",
    "    \n",
    "    area_anterior = area_aprox\n",
    "\n",
    "# Mostrar la tabla\n",
    "tabla"
   ]
  },
  {
   "cell_type": "markdown",
   "id": "22b3fa24-cf89-436c-aff9-5b311e50edb1",
   "metadata": {},
   "source": [
    "### Conclusión\n"
   ]
  }
 ],
 "metadata": {
  "kernelspec": {
   "display_name": "Python 3 (ipykernel)",
   "language": "python",
   "name": "python3"
  },
  "language_info": {
   "codemirror_mode": {
    "name": "ipython",
    "version": 3
   },
   "file_extension": ".py",
   "mimetype": "text/x-python",
   "name": "python",
   "nbconvert_exporter": "python",
   "pygments_lexer": "ipython3",
   "version": "3.11.4"
  }
 },
 "nbformat": 4,
 "nbformat_minor": 5
}
